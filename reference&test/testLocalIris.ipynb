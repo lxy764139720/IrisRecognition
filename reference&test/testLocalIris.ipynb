{
 "cells": [
  {
   "cell_type": "markdown",
   "source": [
    "测试内外圆检测"
   ],
   "metadata": {
    "collapsed": false,
    "pycharm": {
     "name": "#%% md\n"
    }
   }
  },
  {
   "cell_type": "code",
   "execution_count": 12,
   "metadata": {
    "collapsed": true,
    "pycharm": {
     "name": "#%%\n"
    }
   },
   "outputs": [],
   "source": [
    "import numpy as np\n",
    "import cv2\n",
    "from util.innerCircle import innerCircle\n",
    "from util.outerCircle import outerCircle\n",
    "from util.normalize import normalize\n",
    "from util.feature import swtFeatureMap, mallatFeatureMap\n",
    "from util.visualization import displayCircle\n",
    "\n",
    "img_path = './photo/dz/L/1.jpeg'\n",
    "img = cv2.imread(img_path, 0)\n",
    "inner = innerCircle(img)\n",
    "outer = outerCircle(img, inner)\n",
    "displayCircle(img, outer[0], outer[1], outer[2], inner[0], inner[1], inner[2])"
   ]
  },
  {
   "cell_type": "markdown",
   "source": [
    "任选两张图像进行相似度比对"
   ],
   "metadata": {
    "collapsed": false,
    "pycharm": {
     "name": "#%% md\n"
    }
   }
  },
  {
   "cell_type": "code",
   "execution_count": 4,
   "outputs": [
    {
     "name": "stdout",
     "output_type": "stream",
     "text": [
      "60432\n",
      "50395\n"
     ]
    },
    {
     "data": {
      "text/plain": "array([[1, 1, 1, ..., 1, 1, 1],\n       [1, 1, 1, ..., 1, 1, 1],\n       [1, 1, 1, ..., 1, 1, 1],\n       ...,\n       [0, 1, 0, ..., 1, 0, 1],\n       [0, 0, 0, ..., 1, 0, 1],\n       [1, 0, 1, ..., 1, 0, 0]], dtype=uint8)"
     },
     "execution_count": 4,
     "metadata": {},
     "output_type": "execute_result"
    }
   ],
   "source": [
    "import cv2\n",
    "import numpy as np\n",
    "from util.feature import getFeatureMap\n",
    "\n",
    "feature_1 = getFeatureMap(cv2.imread(\"./photo/pc/L/1.jpeg\", 0), 'swt')\n",
    "feature_2 = getFeatureMap(cv2.imread(\"./photo/pc/L/15.jpeg\", 0), 'swt')\n",
    "feature_3 = getFeatureMap(cv2.imread(\"./photo/lxy/R/10.jpeg\", 0), 'swt')\n",
    "feature_4 = getFeatureMap(cv2.imread(\"./photo/lxy/R/21.jpeg\", 0), 'swt')\n",
    "same_distance = np.count_nonzero(feature_1 != feature_2)\n",
    "diff_distance = np.count_nonzero(feature_3 != feature_4)\n",
    "print(same_distance)\n",
    "print(diff_distance)\n",
    "# cv2.imwrite('./1.bmp', feature_1)\n",
    "# cv2.imread('./1.bmp', -1)"
   ],
   "metadata": {
    "collapsed": false,
    "pycharm": {
     "name": "#%%\n"
    }
   }
  },
  {
   "cell_type": "markdown",
   "source": [
    "对所有图像提取特征"
   ],
   "metadata": {
    "collapsed": false,
    "pycharm": {
     "name": "#%% md\n"
    }
   }
  },
  {
   "cell_type": "code",
   "execution_count": 1,
   "outputs": [],
   "source": [
    "import os\n",
    "import cv2\n",
    "from util.feature import getFeatureMap\n",
    "\n",
    "feature_path = r'.\\feature'  # 特征目录\n",
    "dataset_path = r'.\\photo'\n",
    "i = 0\n",
    "for path, dir_list, file_list in os.walk(dataset_path):\n",
    "    # print(path)\n",
    "    # print(dir_list)\n",
    "    # print(file_list)\n",
    "    save_dir = feature_path + path[len(dataset_path):]\n",
    "    if not os.path.exists(save_dir):\n",
    "        os.makedirs(save_dir)\n",
    "    for file_name in file_list:\n",
    "        img_path = os.path.join(path, file_name)\n",
    "        save_path = feature_path + img_path[len(dataset_path):1 - len('.\\jpeg')] + '.bmp'\n",
    "        # print(save_path)\n",
    "        feature = getFeatureMap(cv2.imread(img_path, 0), 'swt')\n",
    "        cv2.imwrite(save_path, feature)\n",
    "        i += 1"
   ],
   "metadata": {
    "collapsed": false,
    "pycharm": {
     "name": "#%%\n"
    }
   }
  },
  {
   "cell_type": "markdown",
   "source": [
    "任选一张图像判断与其最相似的虹膜所属者以及左右眼"
   ],
   "metadata": {
    "collapsed": false,
    "pycharm": {
     "name": "#%% md\n"
    }
   }
  },
  {
   "cell_type": "code",
   "execution_count": 28,
   "outputs": [
    {
     "name": "stdout",
     "output_type": "stream",
     "text": [
      "{'dz-L': 67580.06666666667, 'dz-R': 55252.709677419356, 'lxy-L': 71105.33333333333, 'lxy-R': 71669.1875, 'pc-L': 69550.2, 'pc-R': 70783.79069767441, 'ycr-L': 68509.77777777778, 'ycr-R': 70652.56410256411}\n",
      "dz-R\n",
      "Wall time: 148 ms\n"
     ]
    }
   ],
   "source": [
    "%%time\n",
    "\n",
    "persons = 4\n",
    "photos_per_eye = 20\n",
    "score_dict = {}\n",
    "test_img_path = './photo/dz/R/1.jpeg'\n",
    "test_img = cv2.imread(test_img_path, 0)\n",
    "test_img_feature = getFeatureMap(test_img, 'swt')\n",
    "\n",
    "score_per_eye = 0\n",
    "feature_path = r'.\\feature'  # 记录初始路径\n",
    "for path, dir_list, file_list in os.walk(feature_path):\n",
    "    # print(path)\n",
    "    # print(dir_list)\n",
    "    # print(file_list)\n",
    "    if len(file_list) != 0:\n",
    "        for img_path in file_list:\n",
    "            img_feature = cv2.imread(os.path.join(path, img_path), -1)\n",
    "            distance = np.count_nonzero(test_img_feature != img_feature)\n",
    "            # print(distance)\n",
    "            score_per_eye += distance\n",
    "        path_split = path.split('\\\\')\n",
    "        score_dict[path_split[-2] + '-' + path_split[-1]] = score_per_eye / len(file_list)\n",
    "        # print(score_per_eye / len(file_list))\n",
    "        score_per_eye = 0\n",
    "\n",
    "print(score_dict)\n",
    "sorted_list = sorted(score_dict.items(), key=lambda x: x[1], reverse=False)\n",
    "print(sorted_list[0][0])"
   ],
   "metadata": {
    "collapsed": false,
    "pycharm": {
     "name": "#%%\n"
    }
   }
  },
  {
   "cell_type": "markdown",
   "source": [
    "使用封装好的util包"
   ],
   "metadata": {
    "collapsed": false,
    "pycharm": {
     "name": "#%% md\n"
    }
   }
  },
  {
   "cell_type": "code",
   "execution_count": 1,
   "outputs": [
    {
     "name": "stdout",
     "output_type": "stream",
     "text": [
      "lxy\n",
      "R\n",
      "[('lxy-R', 56951.25), ('ycr-L', 68283.38888888889), ('pc-L', 68407.24), ('ycr-R', 68951.89743589744), ('dz-L', 68986.8), ('pc-R', 69243.46511627907), ('lxy-L', 72036.08333333333), ('dz-R', 73366.96774193548)]\n"
     ]
    }
   ],
   "source": [
    "import cv2\n",
    "from util.feature import generateFeatureDataset\n",
    "from util.contrast import contrast\n",
    "\n",
    "test_img_path = './photo/lxy/R/1.jpeg'\n",
    "test_img = cv2.imread(test_img_path, 0)\n",
    "# generateFeatureDataset()\n",
    "name, side, scores = contrast(test_img)\n",
    "print(name)\n",
    "print(side)\n",
    "print(scores)\n"
   ],
   "metadata": {
    "collapsed": false,
    "pycharm": {
     "name": "#%%\n"
    }
   }
  }
 ],
 "metadata": {
  "kernelspec": {
   "display_name": "Python 3",
   "language": "python",
   "name": "python3"
  },
  "language_info": {
   "codemirror_mode": {
    "name": "ipython",
    "version": 2
   },
   "file_extension": ".py",
   "mimetype": "text/x-python",
   "name": "python",
   "nbconvert_exporter": "python",
   "pygments_lexer": "ipython2",
   "version": "2.7.6"
  }
 },
 "nbformat": 4,
 "nbformat_minor": 0
}