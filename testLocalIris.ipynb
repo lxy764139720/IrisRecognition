{
 "cells": [
  {
   "cell_type": "markdown",
   "source": [
    "测试内外圆检测"
   ],
   "metadata": {
    "collapsed": false,
    "pycharm": {
     "name": "#%% md\n"
    }
   }
  },
  {
   "cell_type": "code",
   "execution_count": 12,
   "metadata": {
    "collapsed": true,
    "pycharm": {
     "name": "#%%\n"
    }
   },
   "outputs": [],
   "source": [
    "import numpy as np\n",
    "import cv2\n",
    "from util.innerCircle import innerCircle\n",
    "from util.outerCircle import outerCircle\n",
    "from util.normalize import normalize\n",
    "from util.feature import swtFeatureMap, mallatFeatureMap\n",
    "from util.visualization import displayCircle\n",
    "\n",
    "img_path = './photo/dz/L/1.jpeg'\n",
    "img = cv2.imread(img_path, 0)\n",
    "inner = innerCircle(img)\n",
    "outer = outerCircle(img, inner)\n",
    "displayCircle(img, outer[0], outer[1], outer[2], inner[0], inner[1], inner[2])"
   ]
  },
  {
   "cell_type": "markdown",
   "source": [
    "任选两张图像进行相似度比对"
   ],
   "metadata": {
    "collapsed": false,
    "pycharm": {
     "name": "#%% md\n"
    }
   }
  },
  {
   "cell_type": "code",
   "execution_count": 4,
   "outputs": [
    {
     "name": "stdout",
     "output_type": "stream",
     "text": [
      "60432\n",
      "50395\n"
     ]
    },
    {
     "data": {
      "text/plain": "array([[1, 1, 1, ..., 1, 1, 1],\n       [1, 1, 1, ..., 1, 1, 1],\n       [1, 1, 1, ..., 1, 1, 1],\n       ...,\n       [0, 1, 0, ..., 1, 0, 1],\n       [0, 0, 0, ..., 1, 0, 1],\n       [1, 0, 1, ..., 1, 0, 0]], dtype=uint8)"
     },
     "execution_count": 4,
     "metadata": {},
     "output_type": "execute_result"
    }
   ],
   "source": [
    "import cv2\n",
    "import numpy as np\n",
    "from util.feature import getFeatureMap\n",
    "\n",
    "feature_1 = getFeatureMap(cv2.imread(\"./photo/pc/L/1.jpeg\", 0), 'swt')\n",
    "feature_2 = getFeatureMap(cv2.imread(\"./photo/pc/L/15.jpeg\", 0), 'swt')\n",
    "feature_3 = getFeatureMap(cv2.imread(\"./photo/lxy/R/10.jpeg\", 0), 'swt')\n",
    "feature_4 = getFeatureMap(cv2.imread(\"./photo/lxy/R/21.jpeg\", 0), 'swt')\n",
    "same_distance = np.count_nonzero(feature_1 != feature_2)\n",
    "diff_distance = np.count_nonzero(feature_3 != feature_4)\n",
    "print(same_distance)\n",
    "print(diff_distance)\n",
    "# cv2.imwrite('./1.bmp', feature_1)\n",
    "# cv2.imread('./1.bmp', -1)"
   ],
   "metadata": {
    "collapsed": false,
    "pycharm": {
     "name": "#%%\n"
    }
   }
  },
  {
   "cell_type": "markdown",
   "source": [
    "对所有图像提取特征"
   ],
   "metadata": {
    "collapsed": false,
    "pycharm": {
     "name": "#%% md\n"
    }
   }
  },
  {
   "cell_type": "code",
   "execution_count": 12,
   "outputs": [
    {
     "name": "stdout",
     "output_type": "stream",
     "text": [
      ".\\photo\n",
      "['dz', 'lxy', 'pc', 'ycr']\n",
      "[]\n",
      ".\\photo\\dz\n",
      "['L', 'R']\n",
      "[]\n",
      ".\\photo\\dz\\L\n",
      "[]\n",
      "['1.jpeg', '10.jpeg', '11.jpeg', '12.jpeg', '13.jpeg', '14.jpeg', '15.jpeg', '16.jpeg', '17.jpeg', '18.jpeg', '19.jpeg', '2.jpeg', '20.jpeg', '21.jpeg', '22.jpeg', '23.jpeg', '24.jpeg', '25.jpeg', '26.jpeg', '27.jpeg', '28.jpeg', '29.jpeg', '3.jpeg', '30.jpeg', '4.jpeg', '5.jpeg', '6.jpeg', '7.jpeg', '8.jpeg', '9.jpeg']\n",
      ".\\feature\\dz\\L\\1.bmp\n",
      ".\\feature\\dz\\L\\10.bmp\n",
      ".\\feature\\dz\\L\\11.bmp\n",
      ".\\feature\\dz\\L\\12.bmp\n",
      ".\\feature\\dz\\L\\13.bmp\n",
      ".\\feature\\dz\\L\\14.bmp\n",
      ".\\feature\\dz\\L\\15.bmp\n",
      ".\\feature\\dz\\L\\16.bmp\n",
      ".\\feature\\dz\\L\\17.bmp\n",
      ".\\feature\\dz\\L\\18.bmp\n",
      ".\\feature\\dz\\L\\19.bmp\n",
      ".\\feature\\dz\\L\\2.bmp\n",
      ".\\feature\\dz\\L\\20.bmp\n",
      ".\\feature\\dz\\L\\21.bmp\n",
      ".\\feature\\dz\\L\\22.bmp\n",
      ".\\feature\\dz\\L\\23.bmp\n",
      ".\\feature\\dz\\L\\24.bmp\n",
      ".\\feature\\dz\\L\\25.bmp\n",
      ".\\feature\\dz\\L\\26.bmp\n",
      ".\\feature\\dz\\L\\27.bmp\n",
      ".\\feature\\dz\\L\\28.bmp\n",
      ".\\feature\\dz\\L\\29.bmp\n",
      ".\\feature\\dz\\L\\3.bmp\n",
      ".\\feature\\dz\\L\\30.bmp\n",
      ".\\feature\\dz\\L\\4.bmp\n",
      ".\\feature\\dz\\L\\5.bmp\n",
      ".\\feature\\dz\\L\\6.bmp\n",
      ".\\feature\\dz\\L\\7.bmp\n",
      ".\\feature\\dz\\L\\8.bmp\n",
      ".\\feature\\dz\\L\\9.bmp\n",
      ".\\photo\\dz\\R\n",
      "[]\n",
      "['1.jpeg', '10.jpeg', '11.jpeg', '12.jpeg', '13.jpeg', '14.jpeg', '15.jpeg', '16.jpeg', '17.jpeg', '18.jpeg', '19.jpeg', '2.jpeg', '20.jpeg', '21.jpeg', '22.jpeg', '23.jpeg', '24.jpeg', '25.jpeg', '26.jpeg', '27.jpeg', '28.jpeg', '29.jpeg', '3.jpeg', '30.jpeg', '31.jpeg', '4.jpeg', '5.jpeg', '6.jpeg', '7.jpeg', '8.jpeg', '9.jpeg']\n",
      ".\\feature\\dz\\R\\1.bmp\n",
      ".\\feature\\dz\\R\\10.bmp\n",
      ".\\feature\\dz\\R\\11.bmp\n",
      ".\\feature\\dz\\R\\12.bmp\n",
      ".\\feature\\dz\\R\\13.bmp\n",
      ".\\feature\\dz\\R\\14.bmp\n",
      ".\\feature\\dz\\R\\15.bmp\n",
      ".\\feature\\dz\\R\\16.bmp\n",
      ".\\feature\\dz\\R\\17.bmp\n",
      ".\\feature\\dz\\R\\18.bmp\n",
      ".\\feature\\dz\\R\\19.bmp\n",
      ".\\feature\\dz\\R\\2.bmp\n",
      ".\\feature\\dz\\R\\20.bmp\n",
      ".\\feature\\dz\\R\\21.bmp\n",
      ".\\feature\\dz\\R\\22.bmp\n",
      ".\\feature\\dz\\R\\23.bmp\n",
      ".\\feature\\dz\\R\\24.bmp\n",
      ".\\feature\\dz\\R\\25.bmp\n",
      ".\\feature\\dz\\R\\26.bmp\n",
      ".\\feature\\dz\\R\\27.bmp\n",
      ".\\feature\\dz\\R\\28.bmp\n",
      ".\\feature\\dz\\R\\29.bmp\n",
      ".\\feature\\dz\\R\\3.bmp\n",
      ".\\feature\\dz\\R\\30.bmp\n",
      ".\\feature\\dz\\R\\31.bmp\n",
      ".\\feature\\dz\\R\\4.bmp\n",
      ".\\feature\\dz\\R\\5.bmp\n",
      ".\\feature\\dz\\R\\6.bmp\n",
      ".\\feature\\dz\\R\\7.bmp\n",
      ".\\feature\\dz\\R\\8.bmp\n",
      ".\\feature\\dz\\R\\9.bmp\n",
      ".\\photo\\lxy\n",
      "['L', 'R']\n",
      "[]\n",
      ".\\photo\\lxy\\L\n",
      "[]\n",
      "['1.jpeg', '10.jpeg', '11.jpeg', '12.jpeg', '13.jpeg', '14.jpeg', '15.jpeg', '16.jpeg', '17.jpeg', '18.jpeg', '19.jpeg', '2.jpeg', '20.jpeg', '21.jpeg', '22.jpeg', '23.jpeg', '24.jpeg', '3.jpeg', '4.jpeg', '5.jpeg', '6.jpeg', '7.jpeg', '8.jpeg', '9.jpeg']\n",
      ".\\feature\\lxy\\L\\1.bmp\n",
      ".\\feature\\lxy\\L\\10.bmp\n",
      ".\\feature\\lxy\\L\\11.bmp\n",
      ".\\feature\\lxy\\L\\12.bmp\n",
      ".\\feature\\lxy\\L\\13.bmp\n",
      ".\\feature\\lxy\\L\\14.bmp\n",
      ".\\feature\\lxy\\L\\15.bmp\n",
      ".\\feature\\lxy\\L\\16.bmp\n",
      ".\\feature\\lxy\\L\\17.bmp\n",
      ".\\feature\\lxy\\L\\18.bmp\n",
      ".\\feature\\lxy\\L\\19.bmp\n",
      ".\\feature\\lxy\\L\\2.bmp\n",
      ".\\feature\\lxy\\L\\20.bmp\n",
      ".\\feature\\lxy\\L\\21.bmp\n",
      ".\\feature\\lxy\\L\\22.bmp\n",
      ".\\feature\\lxy\\L\\23.bmp\n",
      ".\\feature\\lxy\\L\\24.bmp\n",
      ".\\feature\\lxy\\L\\3.bmp\n",
      ".\\feature\\lxy\\L\\4.bmp\n",
      ".\\feature\\lxy\\L\\5.bmp\n",
      ".\\feature\\lxy\\L\\6.bmp\n",
      ".\\feature\\lxy\\L\\7.bmp\n",
      ".\\feature\\lxy\\L\\8.bmp\n",
      ".\\feature\\lxy\\L\\9.bmp\n",
      ".\\photo\\lxy\\R\n",
      "[]\n",
      "['1.jpeg', '10.jpeg', '11.jpeg', '12.jpeg', '13.jpeg', '14.jpeg', '15.jpeg', '16.jpeg', '17.jpeg', '18.jpeg', '19.jpeg', '2.jpeg', '20.jpeg', '21.jpeg', '22.jpeg', '23.jpeg', '24.jpeg', '25.jpeg', '26.jpeg', '27.jpeg', '28.jpeg', '29.jpeg', '3.jpeg', '30.jpeg', '31.jpeg', '32.jpeg', '4.jpeg', '5.jpeg', '6.jpeg', '7.jpeg', '8.jpeg', '9.jpeg']\n",
      ".\\feature\\lxy\\R\\1.bmp\n",
      ".\\feature\\lxy\\R\\10.bmp\n",
      ".\\feature\\lxy\\R\\11.bmp\n",
      ".\\feature\\lxy\\R\\12.bmp\n",
      ".\\feature\\lxy\\R\\13.bmp\n",
      ".\\feature\\lxy\\R\\14.bmp\n",
      ".\\feature\\lxy\\R\\15.bmp\n",
      ".\\feature\\lxy\\R\\16.bmp\n",
      ".\\feature\\lxy\\R\\17.bmp\n",
      ".\\feature\\lxy\\R\\18.bmp\n",
      ".\\feature\\lxy\\R\\19.bmp\n",
      ".\\feature\\lxy\\R\\2.bmp\n",
      ".\\feature\\lxy\\R\\20.bmp\n",
      ".\\feature\\lxy\\R\\21.bmp\n",
      ".\\feature\\lxy\\R\\22.bmp\n",
      ".\\feature\\lxy\\R\\23.bmp\n",
      ".\\feature\\lxy\\R\\24.bmp\n",
      ".\\feature\\lxy\\R\\25.bmp\n",
      ".\\feature\\lxy\\R\\26.bmp\n",
      ".\\feature\\lxy\\R\\27.bmp\n",
      ".\\feature\\lxy\\R\\28.bmp\n",
      ".\\feature\\lxy\\R\\29.bmp\n",
      ".\\feature\\lxy\\R\\3.bmp\n",
      ".\\feature\\lxy\\R\\30.bmp\n",
      ".\\feature\\lxy\\R\\31.bmp\n",
      ".\\feature\\lxy\\R\\32.bmp\n",
      ".\\feature\\lxy\\R\\4.bmp\n",
      ".\\feature\\lxy\\R\\5.bmp\n",
      ".\\feature\\lxy\\R\\6.bmp\n",
      ".\\feature\\lxy\\R\\7.bmp\n",
      ".\\feature\\lxy\\R\\8.bmp\n",
      ".\\feature\\lxy\\R\\9.bmp\n",
      ".\\photo\\pc\n",
      "['L', 'R']\n",
      "[]\n",
      ".\\photo\\pc\\L\n",
      "[]\n",
      "['1.jpeg', '10.jpeg', '11.jpeg', '12.jpeg', '13.jpeg', '14.jpeg', '15.jpeg', '16.jpeg', '17.jpeg', '18.jpeg', '19.jpeg', '2.jpeg', '20.jpeg', '21.jpeg', '22.jpeg', '23.jpeg', '24.jpeg', '25.jpeg', '3.jpeg', '4.jpeg', '5.jpeg', '6.jpeg', '7.jpeg', '8.jpeg', '9.jpeg']\n",
      ".\\feature\\pc\\L\\1.bmp\n",
      ".\\feature\\pc\\L\\10.bmp\n",
      ".\\feature\\pc\\L\\11.bmp\n",
      ".\\feature\\pc\\L\\12.bmp\n",
      ".\\feature\\pc\\L\\13.bmp\n",
      ".\\feature\\pc\\L\\14.bmp\n",
      ".\\feature\\pc\\L\\15.bmp\n",
      ".\\feature\\pc\\L\\16.bmp\n",
      ".\\feature\\pc\\L\\17.bmp\n",
      ".\\feature\\pc\\L\\18.bmp\n",
      ".\\feature\\pc\\L\\19.bmp\n",
      ".\\feature\\pc\\L\\2.bmp\n",
      ".\\feature\\pc\\L\\20.bmp\n",
      ".\\feature\\pc\\L\\21.bmp\n",
      ".\\feature\\pc\\L\\22.bmp\n",
      ".\\feature\\pc\\L\\23.bmp\n",
      ".\\feature\\pc\\L\\24.bmp\n",
      ".\\feature\\pc\\L\\25.bmp\n",
      ".\\feature\\pc\\L\\3.bmp\n",
      ".\\feature\\pc\\L\\4.bmp\n",
      ".\\feature\\pc\\L\\5.bmp\n",
      ".\\feature\\pc\\L\\6.bmp\n",
      ".\\feature\\pc\\L\\7.bmp\n",
      ".\\feature\\pc\\L\\8.bmp\n",
      ".\\feature\\pc\\L\\9.bmp\n",
      ".\\photo\\pc\\R\n",
      "[]\n",
      "['1.jpeg', '10.jpeg', '11.jpeg', '12.jpeg', '13.jpeg', '14.jpeg', '15.jpeg', '16.jpeg', '17.jpeg', '18.jpeg', '19.jpeg', '2.jpeg', '20.jpeg', '21.jpeg', '22.jpeg', '23.jpeg', '24.jpeg', '25.jpeg', '26.jpeg', '27.jpeg', '28.jpeg', '29.jpeg', '3.jpeg', '30.jpeg', '31.jpeg', '32.jpeg', '33.jpeg', '34.jpeg', '35.jpeg', '36.jpeg', '37.jpeg', '38.jpeg', '39.jpeg', '4.jpeg', '40.jpeg', '41.jpeg', '42.jpeg', '43.jpeg', '5.jpeg', '6.jpeg', '7.jpeg', '8.jpeg', '9.jpeg']\n",
      ".\\feature\\pc\\R\\1.bmp\n",
      ".\\feature\\pc\\R\\10.bmp\n",
      ".\\feature\\pc\\R\\11.bmp\n",
      ".\\feature\\pc\\R\\12.bmp\n",
      ".\\feature\\pc\\R\\13.bmp\n",
      ".\\feature\\pc\\R\\14.bmp\n",
      ".\\feature\\pc\\R\\15.bmp\n",
      ".\\feature\\pc\\R\\16.bmp\n",
      ".\\feature\\pc\\R\\17.bmp\n",
      ".\\feature\\pc\\R\\18.bmp\n",
      ".\\feature\\pc\\R\\19.bmp\n",
      ".\\feature\\pc\\R\\2.bmp\n",
      ".\\feature\\pc\\R\\20.bmp\n",
      ".\\feature\\pc\\R\\21.bmp\n",
      ".\\feature\\pc\\R\\22.bmp\n",
      ".\\feature\\pc\\R\\23.bmp\n",
      ".\\feature\\pc\\R\\24.bmp\n",
      ".\\feature\\pc\\R\\25.bmp\n",
      ".\\feature\\pc\\R\\26.bmp\n",
      ".\\feature\\pc\\R\\27.bmp\n",
      ".\\feature\\pc\\R\\28.bmp\n",
      ".\\feature\\pc\\R\\29.bmp\n",
      ".\\feature\\pc\\R\\3.bmp\n",
      ".\\feature\\pc\\R\\30.bmp\n",
      ".\\feature\\pc\\R\\31.bmp\n",
      ".\\feature\\pc\\R\\32.bmp\n",
      ".\\feature\\pc\\R\\33.bmp\n",
      ".\\feature\\pc\\R\\34.bmp\n",
      ".\\feature\\pc\\R\\35.bmp\n",
      ".\\feature\\pc\\R\\36.bmp\n",
      ".\\feature\\pc\\R\\37.bmp\n",
      ".\\feature\\pc\\R\\38.bmp\n",
      ".\\feature\\pc\\R\\39.bmp\n",
      ".\\feature\\pc\\R\\4.bmp\n",
      ".\\feature\\pc\\R\\40.bmp\n",
      ".\\feature\\pc\\R\\41.bmp\n",
      ".\\feature\\pc\\R\\42.bmp\n",
      ".\\feature\\pc\\R\\43.bmp\n",
      ".\\feature\\pc\\R\\5.bmp\n",
      ".\\feature\\pc\\R\\6.bmp\n",
      ".\\feature\\pc\\R\\7.bmp\n",
      ".\\feature\\pc\\R\\8.bmp\n",
      ".\\feature\\pc\\R\\9.bmp\n",
      ".\\photo\\ycr\n",
      "['L', 'R']\n",
      "[]\n",
      ".\\photo\\ycr\\L\n",
      "[]\n",
      "['1.jpeg', '10.jpeg', '11.jpeg', '12.jpeg', '13.jpeg', '14.jpeg', '15.jpeg', '16.jpeg', '17.jpeg', '18.jpeg', '19.jpeg', '2.jpeg', '20.jpeg', '21.jpeg', '22.jpeg', '23.jpeg', '24.jpeg', '25.jpeg', '26.jpeg', '27.jpeg', '28.jpeg', '29.jpeg', '3.jpeg', '30.jpeg', '31.jpeg', '32.jpeg', '33.jpeg', '34.jpeg', '35.jpeg', '36.jpeg', '4.jpeg', '5.jpeg', '6.jpeg', '7.jpeg', '8.jpeg', '9.jpeg']\n",
      ".\\feature\\ycr\\L\\1.bmp\n",
      ".\\feature\\ycr\\L\\10.bmp\n",
      ".\\feature\\ycr\\L\\11.bmp\n",
      ".\\feature\\ycr\\L\\12.bmp\n",
      ".\\feature\\ycr\\L\\13.bmp\n",
      ".\\feature\\ycr\\L\\14.bmp\n",
      ".\\feature\\ycr\\L\\15.bmp\n",
      ".\\feature\\ycr\\L\\16.bmp\n",
      ".\\feature\\ycr\\L\\17.bmp\n",
      ".\\feature\\ycr\\L\\18.bmp\n",
      ".\\feature\\ycr\\L\\19.bmp\n",
      ".\\feature\\ycr\\L\\2.bmp\n",
      ".\\feature\\ycr\\L\\20.bmp\n",
      ".\\feature\\ycr\\L\\21.bmp\n",
      ".\\feature\\ycr\\L\\22.bmp\n",
      ".\\feature\\ycr\\L\\23.bmp\n",
      ".\\feature\\ycr\\L\\24.bmp\n",
      ".\\feature\\ycr\\L\\25.bmp\n",
      ".\\feature\\ycr\\L\\26.bmp\n",
      ".\\feature\\ycr\\L\\27.bmp\n",
      ".\\feature\\ycr\\L\\28.bmp\n",
      ".\\feature\\ycr\\L\\29.bmp\n",
      ".\\feature\\ycr\\L\\3.bmp\n",
      ".\\feature\\ycr\\L\\30.bmp\n",
      ".\\feature\\ycr\\L\\31.bmp\n",
      ".\\feature\\ycr\\L\\32.bmp\n",
      ".\\feature\\ycr\\L\\33.bmp\n",
      ".\\feature\\ycr\\L\\34.bmp\n",
      ".\\feature\\ycr\\L\\35.bmp\n",
      ".\\feature\\ycr\\L\\36.bmp\n",
      ".\\feature\\ycr\\L\\4.bmp\n",
      ".\\feature\\ycr\\L\\5.bmp\n",
      ".\\feature\\ycr\\L\\6.bmp\n",
      ".\\feature\\ycr\\L\\7.bmp\n",
      ".\\feature\\ycr\\L\\8.bmp\n",
      ".\\feature\\ycr\\L\\9.bmp\n",
      ".\\photo\\ycr\\R\n",
      "[]\n",
      "['1.jpeg', '10.jpeg', '11.jpeg', '12.jpeg', '13.jpeg', '14.jpeg', '15.jpeg', '16.jpeg', '17.jpeg', '18.jpeg', '19.jpeg', '2.jpeg', '20.jpeg', '21.jpeg', '22.jpeg', '23.jpeg', '24.jpeg', '25.jpeg', '26.jpeg', '27.jpeg', '28.jpeg', '29.jpeg', '3.jpeg', '30.jpeg', '31.jpeg', '32.jpeg', '33.jpeg', '34.jpeg', '35.jpeg', '36.jpeg', '37.jpeg', '38.jpeg', '39.jpeg', '4.jpeg', '5.jpeg', '6.jpeg', '7.jpeg', '8.jpeg', '9.jpeg']\n",
      ".\\feature\\ycr\\R\\1.bmp\n",
      ".\\feature\\ycr\\R\\10.bmp\n",
      ".\\feature\\ycr\\R\\11.bmp\n",
      ".\\feature\\ycr\\R\\12.bmp\n",
      ".\\feature\\ycr\\R\\13.bmp\n",
      ".\\feature\\ycr\\R\\14.bmp\n",
      ".\\feature\\ycr\\R\\15.bmp\n",
      ".\\feature\\ycr\\R\\16.bmp\n",
      ".\\feature\\ycr\\R\\17.bmp\n",
      ".\\feature\\ycr\\R\\18.bmp\n",
      ".\\feature\\ycr\\R\\19.bmp\n",
      ".\\feature\\ycr\\R\\2.bmp\n",
      ".\\feature\\ycr\\R\\20.bmp\n",
      ".\\feature\\ycr\\R\\21.bmp\n",
      ".\\feature\\ycr\\R\\22.bmp\n",
      ".\\feature\\ycr\\R\\23.bmp\n",
      ".\\feature\\ycr\\R\\24.bmp\n",
      ".\\feature\\ycr\\R\\25.bmp\n",
      ".\\feature\\ycr\\R\\26.bmp\n",
      ".\\feature\\ycr\\R\\27.bmp\n",
      ".\\feature\\ycr\\R\\28.bmp\n",
      ".\\feature\\ycr\\R\\29.bmp\n",
      ".\\feature\\ycr\\R\\3.bmp\n",
      ".\\feature\\ycr\\R\\30.bmp\n",
      ".\\feature\\ycr\\R\\31.bmp\n",
      ".\\feature\\ycr\\R\\32.bmp\n",
      ".\\feature\\ycr\\R\\33.bmp\n",
      ".\\feature\\ycr\\R\\34.bmp\n",
      ".\\feature\\ycr\\R\\35.bmp\n",
      ".\\feature\\ycr\\R\\36.bmp\n",
      ".\\feature\\ycr\\R\\37.bmp\n",
      ".\\feature\\ycr\\R\\38.bmp\n",
      ".\\feature\\ycr\\R\\39.bmp\n",
      ".\\feature\\ycr\\R\\4.bmp\n",
      ".\\feature\\ycr\\R\\5.bmp\n",
      ".\\feature\\ycr\\R\\6.bmp\n",
      ".\\feature\\ycr\\R\\7.bmp\n",
      ".\\feature\\ycr\\R\\8.bmp\n",
      ".\\feature\\ycr\\R\\9.bmp\n"
     ]
    }
   ],
   "source": [
    "import os\n",
    "import cv2\n",
    "\n",
    "feature_path = r'.\\feature'  # 特征目录\n",
    "dataset_path = r'.\\photo'\n",
    "i = 0\n",
    "for path, dir_list, file_list in os.walk(dataset_path):\n",
    "    # print(path)\n",
    "    # print(dir_list)\n",
    "    # print(file_list)\n",
    "    save_dir = feature_path + path[len(dataset_path):]\n",
    "    if not os.path.exists(save_dir):\n",
    "        os.makedirs(save_dir)\n",
    "    for file_name in file_list:\n",
    "        img_path = os.path.join(path, file_name)\n",
    "        save_path = feature_path + img_path[len(dataset_path):1 - len('.\\jpeg')] + '.bmp'\n",
    "        # print(save_path)\n",
    "        feature = getFeatureMap(cv2.imread(img_path, 0), 'swt')\n",
    "        cv2.imwrite(save_path, feature)\n",
    "        i += 1"
   ],
   "metadata": {
    "collapsed": false,
    "pycharm": {
     "name": "#%%\n"
    }
   }
  },
  {
   "cell_type": "markdown",
   "source": [
    "任选一张图像判断与其最相似的虹膜所属者以及左右眼"
   ],
   "metadata": {
    "collapsed": false,
    "pycharm": {
     "name": "#%% md\n"
    }
   }
  },
  {
   "cell_type": "code",
   "execution_count": 28,
   "outputs": [
    {
     "name": "stdout",
     "output_type": "stream",
     "text": [
      "{'dz-L': 67580.06666666667, 'dz-R': 55252.709677419356, 'lxy-L': 71105.33333333333, 'lxy-R': 71669.1875, 'pc-L': 69550.2, 'pc-R': 70783.79069767441, 'ycr-L': 68509.77777777778, 'ycr-R': 70652.56410256411}\n",
      "dz-R\n",
      "Wall time: 148 ms\n"
     ]
    }
   ],
   "source": [
    "%%time\n",
    "\n",
    "persons = 4\n",
    "photos_per_eye = 20\n",
    "score_dict = {}\n",
    "test_img_path = './photo/dz/R/1.jpeg'\n",
    "test_img = cv2.imread(test_img_path, 0)\n",
    "test_img_feature = getFeatureMap(test_img, 'swt')\n",
    "\n",
    "score_per_eye = 0\n",
    "feature_path = r'.\\feature'  # 记录初始路径\n",
    "for path, dir_list, file_list in os.walk(feature_path):\n",
    "    # print(path)\n",
    "    # print(dir_list)\n",
    "    # print(file_list)\n",
    "    if len(file_list) != 0:\n",
    "        for img_path in file_list:\n",
    "            img_feature = cv2.imread(os.path.join(path, img_path), -1)\n",
    "            distance = np.count_nonzero(test_img_feature != img_feature)\n",
    "            # print(distance)\n",
    "            score_per_eye += distance\n",
    "        path_split = path.split('\\\\')\n",
    "        score_dict[path_split[-2] + '-' + path_split[-1]] = score_per_eye / len(file_list)\n",
    "        # print(score_per_eye / len(file_list))\n",
    "        score_per_eye = 0\n",
    "\n",
    "print(score_dict)\n",
    "sorted_list = sorted(score_dict.items(), key=lambda x: x[1], reverse=False)\n",
    "print(sorted_list[0][0])"
   ],
   "metadata": {
    "collapsed": false,
    "pycharm": {
     "name": "#%%\n"
    }
   }
  },
  {
   "cell_type": "markdown",
   "source": [
    "使用封装好的util包"
   ],
   "metadata": {
    "collapsed": false,
    "pycharm": {
     "name": "#%% md\n"
    }
   }
  },
  {
   "cell_type": "code",
   "execution_count": 1,
   "outputs": [
    {
     "name": "stdout",
     "output_type": "stream",
     "text": [
      "lxy\n",
      "R\n",
      "[('lxy-R', 56951.25), ('ycr-L', 68283.38888888889), ('pc-L', 68407.24), ('ycr-R', 68951.89743589744), ('dz-L', 68986.8), ('pc-R', 69243.46511627907), ('lxy-L', 72036.08333333333), ('dz-R', 73366.96774193548)]\n"
     ]
    }
   ],
   "source": [
    "import cv2\n",
    "from util.feature import generateFeatureDataset\n",
    "from util.contrast import contrast\n",
    "\n",
    "test_img_path = './photo/lxy/R/1.jpeg'\n",
    "test_img = cv2.imread(test_img_path, 0)\n",
    "# generateFeatureDataset()\n",
    "name, side, scores = contrast(test_img)\n",
    "print(name)\n",
    "print(side)\n",
    "print(scores)"
   ],
   "metadata": {
    "collapsed": false,
    "pycharm": {
     "name": "#%%\n"
    }
   }
  }
 ],
 "metadata": {
  "kernelspec": {
   "display_name": "Python 3",
   "language": "python",
   "name": "python3"
  },
  "language_info": {
   "codemirror_mode": {
    "name": "ipython",
    "version": 2
   },
   "file_extension": ".py",
   "mimetype": "text/x-python",
   "name": "python",
   "nbconvert_exporter": "python",
   "pygments_lexer": "ipython2",
   "version": "2.7.6"
  }
 },
 "nbformat": 4,
 "nbformat_minor": 0
}